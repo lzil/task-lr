{
 "cells": [
  {
   "cell_type": "code",
   "execution_count": 54,
   "metadata": {},
   "outputs": [],
   "source": [
    "import torch\n",
    "import torch.nn as nn\n",
    "import torch.optim as optim\n",
    "\n",
    "import torch.nn.functional as F\n",
    "\n",
    "import os\n",
    "import numpy as np\n",
    "\n",
    "from torch.utils.data import Dataset, DataLoader"
   ]
  },
  {
   "cell_type": "code",
   "execution_count": 150,
   "metadata": {},
   "outputs": [],
   "source": [
    "class SimpleRNN(nn.Module):\n",
    "    def __init__(self, n_input, n_rec, n_output, activation=torch.tanh):\n",
    "        super().__init__()\n",
    "\n",
    "        self.n_input = n_input\n",
    "        self.n_rec = n_rec\n",
    "        self.n_output = n_output\n",
    "\n",
    "        # random initial weight\n",
    "        self.W_input = torch.nn.Parameter(torch.randn(n_input, n_rec))\n",
    "        self.W_rec = torch.nn.Parameter(torch.randn(n_rec, n_rec))\n",
    "        self.b_rec = torch.nn.Parameter(torch.zeros(1, n_rec))\n",
    "        \n",
    "        self.W_output = torch.nn.Parameter(torch.randn(n_rec, n_output))\n",
    "        self.b_out = torch.nn.Parameter(torch.zeros(1, n_output))\n",
    "\n",
    "        self.activation = activation\n",
    "\n",
    "        self.h = torch.zeros(1, n_rec)\n",
    "        \n",
    "    def reset_hidden(self):\n",
    "        self.h = torch.zeros(1, self.n_rec)\n",
    "\n",
    "\n",
    "    def forward(self, X):\n",
    "        # X should be of size (1, n_input)\n",
    "        self.h = self.activation(\n",
    "            torch.mm(X, self.W_input) + \\\n",
    "            torch.mm(self.h, self.W_rec) + \\\n",
    "            self.b_rec)\n",
    "\n",
    "        self.out = self.activation(\n",
    "            torch.mm(self.h, self.W_output) + \\\n",
    "            self.b_out)\n",
    "\n",
    "        return self.h, self.out"
   ]
  },
  {
   "cell_type": "code",
   "execution_count": 151,
   "metadata": {},
   "outputs": [],
   "source": [
    "TOTAL_STEPS = 50\n",
    "NUM_INPUT = 4\n",
    "NUM_OUTPUT = 4\n",
    "NUM_UNITS = 10\n",
    "BATCH_SIZE = 1000\n",
    "NUM_EPOCHS = 10\n",
    "\n",
    "LR = 0.001"
   ]
  },
  {
   "cell_type": "code",
   "execution_count": 152,
   "metadata": {},
   "outputs": [],
   "source": []
  },
  {
   "cell_type": "code",
   "execution_count": 153,
   "metadata": {},
   "outputs": [],
   "source": [
    "x_all = np.concatenate((x_stim, x_go), axis=1)\n",
    "y_all = np.concatenate((y_stim, y_go), axis=1)"
   ]
  },
  {
   "cell_type": "code",
   "execution_count": 158,
   "metadata": {},
   "outputs": [],
   "source": [
    "criterion = nn.MSELoss()"
   ]
  },
  {
   "cell_type": "code",
   "execution_count": 159,
   "metadata": {},
   "outputs": [],
   "source": [
    "net = SimpleRNN(NUM_INPUT, NUM_UNITS, NUM_OUTPUT)"
   ]
  },
  {
   "cell_type": "code",
   "execution_count": 160,
   "metadata": {},
   "outputs": [],
   "source": [
    "optimizer = optim.Adam(net.parameters(), lr=0.001)"
   ]
  },
  {
   "cell_type": "code",
   "execution_count": 173,
   "metadata": {},
   "outputs": [
    {
     "name": "stdout",
     "output_type": "stream",
     "text": [
      "[6.712124013574794e-05, 6.281041714828461e-05, 6.1519313021563e-05, 6.672004383290187e-05, 5.735182639909908e-05, 6.090680108172819e-05, 5.919143222854473e-05, 5.671001417795196e-05, 8.318993059219792e-05, 5.297124516800977e-05]\n"
     ]
    }
   ],
   "source": [
    "\n",
    "\n",
    "for epoch in range(NUM_EPOCHS):\n",
    "    train_loss = 0.0\n",
    "    train_acc = 0.0\n",
    "    \n",
    "    train_losses = []\n",
    "    \n",
    "    net.train()\n",
    "    \n",
    "    for i,data in enumerate(dataloader):\n",
    "        x_cur = data['x'][0]\n",
    "        y_cur = data['y'][0]\n",
    "        \n",
    "        net.reset_hidden()\n",
    "        optimizer.zero_grad()\n",
    "        \n",
    "        outs = []\n",
    "        for timestep in x_cur:\n",
    "            _, out = net(torch.unsqueeze(timestep,0))\n",
    "            outs.append(out)\n",
    "            \n",
    "        out_tensor = torch.cat(outs)\n",
    "        loss = 100*criterion(out_tensor,y_cur)\n",
    "                \n",
    "        loss.backward()\n",
    "        optimizer.step()\n",
    "\n",
    "        train_losses.append(loss.detach().item())\n",
    "        \n",
    "print(train_losses[0::100])\n",
    "        "
   ]
  },
  {
   "cell_type": "code",
   "execution_count": 170,
   "metadata": {},
   "outputs": [],
   "source": [
    "class TaskDataset(Dataset):\n",
    "    def __init__(self, x, y):\n",
    "        self.x = x\n",
    "        self.y = y\n",
    "        \n",
    "    def __len__(self):\n",
    "        return len(self.x)\n",
    "    def __getitem__(self, idx):\n",
    "        if torch.is_tensor(idx):\n",
    "            idx = idx.tolist()\n",
    "            \n",
    "        sample = {'x': torch.from_numpy(self.x[idx]).to(torch.float),\n",
    "                  'y': torch.from_numpy(self.y[idx]).to(torch.float)\n",
    "                 }\n",
    "            \n",
    "        return sample"
   ]
  },
  {
   "cell_type": "code",
   "execution_count": 98,
   "metadata": {},
   "outputs": [],
   "source": [
    "td = TaskDataset(x_all, y_all)"
   ]
  },
  {
   "cell_type": "code",
   "execution_count": 99,
   "metadata": {},
   "outputs": [],
   "source": [
    "dataloader = DataLoader(td, batch_size=1)"
   ]
  },
  {
   "cell_type": "code",
   "execution_count": 108,
   "metadata": {},
   "outputs": [
    {
     "data": {
      "text/plain": [
       "tensor([[0., 0., 0., 0., 0.]])"
      ]
     },
     "execution_count": 108,
     "metadata": {},
     "output_type": "execute_result"
    }
   ],
   "source": [
    "torch.zeros(1,5)"
   ]
  },
  {
   "cell_type": "code",
   "execution_count": null,
   "metadata": {},
   "outputs": [],
   "source": []
  }
 ],
 "metadata": {
  "kernelspec": {
   "display_name": "Python 3",
   "language": "python",
   "name": "python3"
  },
  "language_info": {
   "codemirror_mode": {
    "name": "ipython",
    "version": 3
   },
   "file_extension": ".py",
   "mimetype": "text/x-python",
   "name": "python",
   "nbconvert_exporter": "python",
   "pygments_lexer": "ipython3",
   "version": "3.7.5"
  }
 },
 "nbformat": 4,
 "nbformat_minor": 2
}
